{
 "cells": [
  {
   "cell_type": "markdown",
   "metadata": {},
   "source": [
    "# Markov Music\n",
    "\n",
    "Robbie Dozier\n",
    "Abhi Devathi"
   ]
  },
  {
   "cell_type": "code",
   "execution_count": null,
   "metadata": {},
   "outputs": [],
   "source": [
    "# Import all necessary packages\n",
    "import numpy as np\n",
    "import matplotlib\n",
    "import pandas as pd\n",
    "from matplotlib import pyplot as plt\n",
    "from mpl_toolkits.mplot3d import Axes3D\n",
    "from matplotlib import animation, rc\n",
    "from IPython.display import HTML\n",
    "import pgmpy as pgm\n",
    "from sklearn.decomposition import PCA\n",
    "from sklearn.manifold import LocallyLinearEmbedding, TSNE\n",
    "import useful\n",
    "from pygame import mixer\n",
    "import os\n",
    "os.chdir('..')\n",
    "import midivectors\n",
    "\n",
    "%matplotlib notebook\n",
    "matplotlib.rcParams['figure.figsize'] = [16, 9]\n",
    "matplotlib.rcParams['figure.dpi'] = 50"
   ]
  },
  {
   "cell_type": "markdown",
   "metadata": {},
   "source": [
    "## Summary\n",
    "\n",
    "In this project, we try to learn the structure of Bach Chorales and then generate music using this structure using probabilistic graphical models. "
   ]
  },
  {
   "cell_type": "markdown",
   "metadata": {},
   "source": [
    "## Dataset\n",
    "The dataset we are using is found at [this link](https://archive.ics.uci.edu/ml/datasets/Bach+Choral+Harmony). It is a .csv file of Bach Chorales with harmonies. Each row of the data represents a different chord (events) in a specific chorale. The dataset contains all the chords from 60 chorales. The features are\n",
    "\n",
    "    1. Choral ID: corresponding to the file names from [Bach Central](http://www.bachcentral.com)\n",
    "    2. Event Number\n",
    "    3-14. Pitch Classes, as a binary variable. 3 is C (YES/NO), 4 is C# (YES/NO),...14 is B (YES/NO)\n",
    "    15. Bass Note. A character that represents which pitch is the bass note of the chord.\n",
    "    16. Meter: An integer (1-5) that represents which type of note the chord is. 1 is a whole note, 2 is half note, 3 is a quarter note, 4 is an eighth note and 5 is a sixteenth note.\n",
    "    17. Chord Label: denotes the name of the chord that is played in the event"
   ]
  },
  {
   "cell_type": "markdown",
   "metadata": {},
   "source": [
    "### Pre-Processing\n",
    "First, we parse the data into a form that is friendly for machine learning. We get a dataset that has the same number of events but each vector is now 384 dimensions.\n",
    "\n",
    "***We explain what Robbie did for pre-processing here***\n",
    "\n",
    "The pre-processing functions are found in `midi_vectors`, and the parsing is done in the file `chorales_parse.py`.\n",
    "\n",
    "The final dataset is saved in the file `data/chorales_vectors_12_32.npy`."
   ]
  },
  {
   "cell_type": "markdown",
   "metadata": {},
   "source": [
    "## Dimensionality Reduction\n",
    "\n",
    "In this section, we employ some dimensionality reduction techniques to show how the space looks.\n",
    "\n",
    "### Principal Component Analysis\n",
    "\n",
    "The first technique we employ is PCA because it is simple, and can provide a good baseline for other dimensionality reduction techniques. Further, it allows us to employ an inverse transform from the reduced space to the original space because it is a linear projection. If we suspect that the high-dimensional data lay in a non-linear manifold, we will employ some non-linear methods.\n",
    "\n",
    "First, we load the data."
   ]
  },
  {
   "cell_type": "code",
   "execution_count": null,
   "metadata": {},
   "outputs": [],
   "source": [
    "data = np.load('data/chorales_vectors_12_32.npy')\n",
    "data.shape"
   ]
  },
  {
   "cell_type": "markdown",
   "metadata": {},
   "source": [
    "We choose to take ***n*** components using pca. "
   ]
  },
  {
   "cell_type": "code",
   "execution_count": null,
   "metadata": {},
   "outputs": [],
   "source": [
    "pca = PCA(n_components=200)\n",
    "data_tr = pca.fit_transform(data)\n",
    "data_tr.shape"
   ]
  },
  {
   "cell_type": "markdown",
   "metadata": {},
   "source": [
    "Here, we plot the first 3 principal components in a 3-Dimensional plot."
   ]
  },
  {
   "cell_type": "code",
   "execution_count": null,
   "metadata": {},
   "outputs": [],
   "source": [
    "import useful\n",
    "\n",
    "useful.scatter_3d(\n",
    "    data_tr[:, :3].T, \n",
    "    rcParams=matplotlib.rcParams)"
   ]
  },
  {
   "cell_type": "markdown",
   "metadata": {},
   "source": [
    "As you can see, there is some clear structure"
   ]
  }
 ],
 "metadata": {
  "kernelspec": {
   "display_name": "Python 2",
   "language": "python",
   "name": "python2"
  },
  "language_info": {
   "codemirror_mode": {
    "name": "ipython",
    "version": 2
   },
   "file_extension": ".py",
   "mimetype": "text/x-python",
   "name": "python",
   "nbconvert_exporter": "python",
   "pygments_lexer": "ipython2",
   "version": "2.7.15"
  }
 },
 "nbformat": 4,
 "nbformat_minor": 2
}
