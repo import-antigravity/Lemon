{
 "cells": [
  {
   "cell_type": "markdown",
   "metadata": {},
   "source": [
    "# Markov Music\n",
    "\n",
    "Robbie Dozier\n",
    "Abhi Devathi"
   ]
  },
  {
   "cell_type": "code",
   "execution_count": 1,
   "metadata": {},
   "outputs": [
    {
     "name": "stdout",
     "output_type": "stream",
     "text": [
      "pygame 1.9.5\n",
      "Hello from the pygame community. https://www.pygame.org/contribute.html\n"
     ]
    }
   ],
   "source": [
    "# Import all necessary packages\n",
    "import numpy as np\n",
    "import matplotlib\n",
    "import pandas as pd\n",
    "from matplotlib import pyplot as plt\n",
    "from mpl_toolkits.mplot3d import Axes3D\n",
    "from matplotlib import animation, rc\n",
    "from IPython.display import HTML\n",
    "import pgmpy as pgm\n",
    "from sklearn.decomposition import PCA\n",
    "from sklearn.manifold import LocallyLinearEmbedding, TSNE\n",
    "import useful\n",
    "from pygame import mixer\n",
    "import os\n",
    "os.chdir('..')\n",
    "import midivectors"
   ]
  },
  {
   "cell_type": "code",
   "execution_count": 2,
   "metadata": {},
   "outputs": [],
   "source": [
    "%matplotlib notebook\n",
    "matplotlib.rcParams['figure.figsize'] = [16, 9]\n",
    "matplotlib.rcParams['figure.dpi'] = 50"
   ]
  },
  {
   "cell_type": "markdown",
   "metadata": {},
   "source": [
    "## Summary\n",
    "\n",
    "In this project, we try to learn the structure of Bach Chorales and then generate music using this structure using probabilistic graphical models. "
   ]
  },
  {
   "cell_type": "markdown",
   "metadata": {},
   "source": [
    "## Dataset\n",
    "The dataset we are using is found at [this link](https://archive.ics.uci.edu/ml/datasets/Bach+Choral+Harmony). It is a .csv file of Bach Chorales with harmonies. Each row of the data represents a different chord (events) in a specific chorale. The dataset contains all the chords from 60 chorales. The features are\n",
    "\n",
    "    1. Choral ID: corresponding to the file names from [Bach Central](http://www.bachcentral.com)\n",
    "    2. Event Number\n",
    "    3-14. Pitch Classes, as a binary variable. 3 is C (YES/NO), 4 is C# (YES/NO),...14 is B (YES/NO)\n",
    "    15. Bass Note. A character that represents which pitch is the bass note of the chord.\n",
    "    16. Meter: An integer (1-5) that represents which type of note the chord is. 1 is a whole note, 2 is half note, 3 is a quarter note, 4 is an eighth note and 5 is a sixteenth note.\n",
    "    17. Chord Label: denotes the name of the chord that is played in the event"
   ]
  },
  {
   "cell_type": "markdown",
   "metadata": {},
   "source": [
    "### Pre-Processing\n",
    "First, we parse the data into a form that is friendly for machine learning. We get a dataset that has the same number of events but each vector is now 384 dimensions.\n",
    "\n",
    "We are only looking at the harmonic content of the data, so everything except for the name of the Chorale and features 3-14 are thrown out. We can then arrange this into a series of $m$-dimensional vectors where $m$ is the number of notes (12 in this case):\n",
    "$$\n",
    "\\begin{bmatrix}1\\\\0\\\\0\\\\0\\\\1\\\\0\\\\0\\\\1\\\\0\\\\0\\\\0\\\\1\\end{bmatrix}\n",
    "$$\n",
    "<img src=\"cmaj7.png\" alt=\"Drawing\" style=\"width: 200px;\"/>\n",
    "Next, we take the vectors and arrange them into $m \\times n$ matrices, where $n$ is the number of subdivisions (timesteps, in this case, 16th notes.)\n",
    "\n",
    "Robbie wrote a simple library for doing this processing, and converting the data to MIDI and back. Next, we split the chorales into 32-subdivision (2 measure) segments, then make versions for all 12 keys. We're left with a\n",
    "\n",
    "The pre-processing functions are found in `midi_vectors`, and the parsing is done in the file `chorales_parse.py`.\n",
    "\n",
    "The final dataset is saved in the file `data/chorales_vectors_12_32.npy`."
   ]
  },
  {
   "cell_type": "markdown",
   "metadata": {},
   "source": [
    "## Dimensionality Reduction\n",
    "\n",
    "In this section, we employ some dimensionality reduction techniques to show how the space looks.\n",
    "\n",
    "### Principal Component Analysis\n",
    "\n",
    "The first technique we employ is PCA because it is simple, and can provide a good baseline for other dimensionality reduction techniques. Further, it allows us to employ an inverse transform from the reduced space to the original space because it is a linear projection. If we suspect that the high-dimensional data lay in a non-linear manifold, we will employ some non-linear methods.\n",
    "\n",
    "First, we load the data."
   ]
  },
  {
   "cell_type": "code",
   "execution_count": 3,
   "metadata": {},
   "outputs": [
    {
     "data": {
      "text/plain": [
       "(12, 32, 1764)"
      ]
     },
     "execution_count": 3,
     "metadata": {},
     "output_type": "execute_result"
    }
   ],
   "source": [
    "data = np.load('data/chorales_matrices_12_32.npy')\n",
    "data.shape"
   ]
  },
  {
   "cell_type": "markdown",
   "metadata": {},
   "source": [
    "We choose to take ***n*** components using pca. "
   ]
  },
  {
   "cell_type": "code",
   "execution_count": null,
   "metadata": {},
   "outputs": [],
   "source": [
    "pca = PCA(n_components=200)\n",
    "data_tr = pca.fit_transform(data)\n",
    "data_tr.shape"
   ]
  },
  {
   "cell_type": "markdown",
   "metadata": {},
   "source": [
    "Here, we plot the first 3 principal components in a 3-Dimensional plot."
   ]
  },
  {
   "cell_type": "code",
   "execution_count": null,
   "metadata": {},
   "outputs": [],
   "source": [
    "import useful\n",
    "\n",
    "useful.scatter_3d(\n",
    "    data_tr[:, :3].T, \n",
    "    rcParams=matplotlib.rcParams)"
   ]
  },
  {
   "cell_type": "markdown",
   "metadata": {},
   "source": [
    "As you can see, there is some clear structure"
   ]
  }
 ],
 "metadata": {
  "kernelspec": {
   "display_name": "lemon",
   "language": "python",
   "name": "lemon"
  },
  "language_info": {
   "codemirror_mode": {
    "name": "ipython",
    "version": 3
   },
   "file_extension": ".py",
   "mimetype": "text/x-python",
   "name": "python",
   "nbconvert_exporter": "python",
   "pygments_lexer": "ipython3",
   "version": "3.6.4"
  }
 },
 "nbformat": 4,
 "nbformat_minor": 2
}
