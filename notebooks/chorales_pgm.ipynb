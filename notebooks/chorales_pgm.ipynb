{
 "cells": [
  {
   "cell_type": "code",
   "execution_count": 1,
   "metadata": {},
   "outputs": [],
   "source": [
    "import numpy as np\n",
    "import matplotlib\n",
    "import pandas as pd\n",
    "from matplotlib import pyplot as plt\n",
    "from mpl_toolkits.mplot3d import Axes3D\n",
    "from matplotlib import animation, rc\n",
    "from IPython.display import HTML\n",
    "import pgmpy\n",
    "from pgmpy import models\n",
    "from pgmpy.factors import discrete\n",
    "from sklearn.decomposition import PCA\n",
    "from sklearn.manifold import LocallyLinearEmbedding, TSNE\n",
    "import useful\n",
    "import itertools"
   ]
  },
  {
   "cell_type": "code",
   "execution_count": 2,
   "metadata": {},
   "outputs": [],
   "source": [
    "%matplotlib inline\n",
    "matplotlib.rcParams['figure.figsize'] = [12, 9]\n",
    "matplotlib.rcParams['figure.dpi'] = 70"
   ]
  },
  {
   "cell_type": "code",
   "execution_count": 3,
   "metadata": {},
   "outputs": [],
   "source": [
    "data = np.load('../data/chorales_matrices_12_32.npy')"
   ]
  },
  {
   "cell_type": "code",
   "execution_count": 4,
   "metadata": {},
   "outputs": [
    {
     "data": {
      "text/plain": [
       "(12, 32, 1764)"
      ]
     },
     "execution_count": 4,
     "metadata": {},
     "output_type": "execute_result"
    }
   ],
   "source": [
    "data.shape"
   ]
  },
  {
   "cell_type": "code",
   "execution_count": 5,
   "metadata": {},
   "outputs": [
    {
     "data": {
      "text/plain": [
       "(56448, 12)"
      ]
     },
     "execution_count": 5,
     "metadata": {},
     "output_type": "execute_result"
    }
   ],
   "source": [
    "flat_data = data.reshape((12, -1)).T\n",
    "flat_data.shape"
   ]
  },
  {
   "cell_type": "code",
   "execution_count": 6,
   "metadata": {},
   "outputs": [
    {
     "data": {
      "text/plain": [
       "(56448, 12)"
      ]
     },
     "execution_count": 6,
     "metadata": {},
     "output_type": "execute_result"
    }
   ],
   "source": [
    "pca = PCA(n_components=12)\n",
    "data_pca = pca.fit_transform(flat_data)\n",
    "data_pca.shape"
   ]
  },
  {
   "cell_type": "code",
   "execution_count": 7,
   "metadata": {},
   "outputs": [
    {
     "data": {
      "image/png": "[encoded data removed]",
      "text/plain": [
       "<Figure size 840x630 with 1 Axes>"
      ]
     },
     "metadata": {
      "needs_background": "light"
     },
     "output_type": "display_data"
    }
   ],
   "source": [
    "plt.scatter(data_pca[:,0], data_pca[:,1]);"
   ]
  },
  {
   "cell_type": "code",
   "execution_count": 84,
   "metadata": {},
   "outputs": [],
   "source": [
    "data = np.load('../data/chorales_vectors_12_8.npy')\n",
    "\n",
    "variables = ['%d_%s'%(j,i) for j in range(8) for i in ['C', 'C#', 'D', 'D#', 'E', 'F', 'F#', 'G', 'G#', 'A', 'A#', 'B']]\n",
    "df = pd.DataFrame(columns=variables, data=data)"
   ]
  },
  {
   "cell_type": "code",
   "execution_count": 85,
   "metadata": {},
   "outputs": [
    {
     "data": {
      "text/plain": [
       "True"
      ]
     },
     "execution_count": 85,
     "metadata": {},
     "output_type": "execute_result"
    }
   ],
   "source": [
    "G = models.MarkovModel()\n",
    "for v in variables:\n",
    "    G.add_node(v)\n",
    "\n",
    "for i, v in enumerate(variables):\n",
    "    neighbors = [v]\n",
    "    if 'B' not in v:\n",
    "        try:\n",
    "            neighbors.append(variables[i + 1])\n",
    "        except IndexError:\n",
    "            pass\n",
    "    if 'C' not in v:\n",
    "        try:\n",
    "            neighbors.append(variables[i - 1])\n",
    "        except IndexError:\n",
    "            pass\n",
    "    \n",
    "    try:\n",
    "        neighbors.append(variables[i + 12])\n",
    "    except IndexError:\n",
    "        pass\n",
    "    if i - 12 >= 0:\n",
    "        try:\n",
    "            neighbors.append(variables[i - 12])\n",
    "        except IndexError:\n",
    "            pass\n",
    "    for a, b in itertools.combinations(neighbors, 2):\n",
    "        G.add_edge(a, b)\n",
    "        \n",
    "'''\n",
    "for i, v in enumerate(variables):\n",
    "    neighbors = [v]\n",
    "    if 'B' not in v:\n",
    "        try:\n",
    "            neighbors.append(variables[i + 1])\n",
    "        except IndexError:\n",
    "            pass\n",
    "    if 'C' not in v:\n",
    "        try:\n",
    "            neighbors.append(variables[i - 1])\n",
    "        except IndexError:\n",
    "            pass\n",
    "    \n",
    "    try:\n",
    "        neighbors.append(variables[i + 12])\n",
    "    except IndexError:\n",
    "        pass\n",
    "    if i - 12 >= 0:\n",
    "        try:\n",
    "            neighbors.append(variables[i - 12])\n",
    "        except IndexError:\n",
    "            pass\n",
    "    \n",
    "    f = discrete.DiscreteFactor(\n",
    "        neighbors,\n",
    "        cardinality=[2] * len(neighbors),\n",
    "        values=np.ones(2 ** len(neighbors))\n",
    "    )\n",
    "    G.add_factors(f)\n",
    "\n",
    "for f in G.factors:\n",
    "    for v, var2 in itertools.combinations(f.variables, 2):\n",
    "        if var2 not in G.neighbors(v):\n",
    "            print(v)\n",
    "            print(G.neighbors(v))\n",
    "            print(f)\n",
    "            print(v, var2)\n",
    "'''\n",
    "\n",
    "G.check_model()"
   ]
  },
  {
   "cell_type": "code",
   "execution_count": 18,
   "metadata": {},
   "outputs": [
    {
     "ename": "MemoryError",
     "evalue": "",
     "output_type": "error",
     "traceback": [
      "\u001b[0;31m---------------------------------------------------------------------------\u001b[0m",
      "\u001b[0;31mMemoryError\u001b[0m                               Traceback (most recent call last)",
      "\u001b[0;32m<ipython-input-18-41e1c9e304e7>\u001b[0m in \u001b[0;36m<module>\u001b[0;34m\u001b[0m\n\u001b[0;32m----> 1\u001b[0;31m \u001b[0mbm\u001b[0m \u001b[0;34m=\u001b[0m \u001b[0mG\u001b[0m\u001b[0;34m.\u001b[0m\u001b[0mto_bayesian_model\u001b[0m\u001b[0;34m(\u001b[0m\u001b[0;34m)\u001b[0m\u001b[0;34m\u001b[0m\u001b[0m\n\u001b[0m",
      "\u001b[0;32m~/Documents/491/Lemon/env/lib/python3.6/site-packages/pgmpy/models/MarkovModel.py\u001b[0m in \u001b[0;36mto_bayesian_model\u001b[0;34m(self)\u001b[0m\n\u001b[1;32m    651\u001b[0m         \u001b[0;31m# Creation of clique tree involves triangulation, finding maximal cliques\u001b[0m\u001b[0;34m\u001b[0m\u001b[0;34m\u001b[0m\u001b[0m\n\u001b[1;32m    652\u001b[0m         \u001b[0;31m# and creating a tree from these cliques\u001b[0m\u001b[0;34m\u001b[0m\u001b[0;34m\u001b[0m\u001b[0m\n\u001b[0;32m--> 653\u001b[0;31m         \u001b[0mjunction_tree\u001b[0m \u001b[0;34m=\u001b[0m \u001b[0mself\u001b[0m\u001b[0;34m.\u001b[0m\u001b[0mto_junction_tree\u001b[0m\u001b[0;34m(\u001b[0m\u001b[0;34m)\u001b[0m\u001b[0;34m\u001b[0m\u001b[0m\n\u001b[0m\u001b[1;32m    654\u001b[0m \u001b[0;34m\u001b[0m\u001b[0m\n\u001b[1;32m    655\u001b[0m         \u001b[0;31m# create an ordering of the nodes based on the ordering of the clique\u001b[0m\u001b[0;34m\u001b[0m\u001b[0;34m\u001b[0m\u001b[0m\n",
      "\u001b[0;32m~/Documents/491/Lemon/env/lib/python3.6/site-packages/pgmpy/models/MarkovModel.py\u001b[0m in \u001b[0;36mto_junction_tree\u001b[0;34m(self)\u001b[0m\n\u001b[1;32m    546\u001b[0m             \u001b[0;31m# To compute clique potential, initially set it as unity factor\u001b[0m\u001b[0;34m\u001b[0m\u001b[0;34m\u001b[0m\u001b[0m\n\u001b[1;32m    547\u001b[0m             \u001b[0mvar_card\u001b[0m \u001b[0;34m=\u001b[0m \u001b[0;34m[\u001b[0m\u001b[0mself\u001b[0m\u001b[0;34m.\u001b[0m\u001b[0mget_cardinality\u001b[0m\u001b[0;34m(\u001b[0m\u001b[0;34m)\u001b[0m\u001b[0;34m[\u001b[0m\u001b[0mx\u001b[0m\u001b[0;34m]\u001b[0m \u001b[0;32mfor\u001b[0m \u001b[0mx\u001b[0m \u001b[0;32min\u001b[0m \u001b[0mnode\u001b[0m\u001b[0;34m]\u001b[0m\u001b[0;34m\u001b[0m\u001b[0m\n\u001b[0;32m--> 548\u001b[0;31m             \u001b[0mclique_potential\u001b[0m \u001b[0;34m=\u001b[0m \u001b[0mDiscreteFactor\u001b[0m\u001b[0;34m(\u001b[0m\u001b[0mnode\u001b[0m\u001b[0;34m,\u001b[0m \u001b[0mvar_card\u001b[0m\u001b[0;34m,\u001b[0m \u001b[0mnp\u001b[0m\u001b[0;34m.\u001b[0m\u001b[0mones\u001b[0m\u001b[0;34m(\u001b[0m\u001b[0mnp\u001b[0m\u001b[0;34m.\u001b[0m\u001b[0mproduct\u001b[0m\u001b[0;34m(\u001b[0m\u001b[0mvar_card\u001b[0m\u001b[0;34m)\u001b[0m\u001b[0;34m)\u001b[0m\u001b[0;34m)\u001b[0m\u001b[0;34m\u001b[0m\u001b[0m\n\u001b[0m\u001b[1;32m    549\u001b[0m             \u001b[0;31m# multiply it with the factors associated with the variables present\u001b[0m\u001b[0;34m\u001b[0m\u001b[0;34m\u001b[0m\u001b[0m\n\u001b[1;32m    550\u001b[0m             \u001b[0;31m# in the clique (or node)\u001b[0m\u001b[0;34m\u001b[0m\u001b[0;34m\u001b[0m\u001b[0m\n",
      "\u001b[0;32m~/Documents/491/Lemon/env/lib/python3.6/site-packages/numpy/core/numeric.py\u001b[0m in \u001b[0;36mones\u001b[0;34m(shape, dtype, order)\u001b[0m\n\u001b[1;32m    221\u001b[0m \u001b[0;34m\u001b[0m\u001b[0m\n\u001b[1;32m    222\u001b[0m     \"\"\"\n\u001b[0;32m--> 223\u001b[0;31m     \u001b[0ma\u001b[0m \u001b[0;34m=\u001b[0m \u001b[0mempty\u001b[0m\u001b[0;34m(\u001b[0m\u001b[0mshape\u001b[0m\u001b[0;34m,\u001b[0m \u001b[0mdtype\u001b[0m\u001b[0;34m,\u001b[0m \u001b[0morder\u001b[0m\u001b[0;34m)\u001b[0m\u001b[0;34m\u001b[0m\u001b[0m\n\u001b[0m\u001b[1;32m    224\u001b[0m     \u001b[0mmultiarray\u001b[0m\u001b[0;34m.\u001b[0m\u001b[0mcopyto\u001b[0m\u001b[0;34m(\u001b[0m\u001b[0ma\u001b[0m\u001b[0;34m,\u001b[0m \u001b[0;36m1\u001b[0m\u001b[0;34m,\u001b[0m \u001b[0mcasting\u001b[0m\u001b[0;34m=\u001b[0m\u001b[0;34m'unsafe'\u001b[0m\u001b[0;34m)\u001b[0m\u001b[0;34m\u001b[0m\u001b[0m\n\u001b[1;32m    225\u001b[0m     \u001b[0;32mreturn\u001b[0m \u001b[0ma\u001b[0m\u001b[0;34m\u001b[0m\u001b[0m\n",
      "\u001b[0;31mMemoryError\u001b[0m: "
     ]
    }
   ],
   "source": [
    "bm = G.to_bayesian_model()"
   ]
  },
  {
   "cell_type": "code",
   "execution_count": 15,
   "metadata": {},
   "outputs": [
    {
     "ename": "AttributeError",
     "evalue": "'FactorGraph' object has no attribute 'fit'",
     "output_type": "error",
     "traceback": [
      "\u001b[0;31m---------------------------------------------------------------------------\u001b[0m",
      "\u001b[0;31mAttributeError\u001b[0m                            Traceback (most recent call last)",
      "\u001b[0;32m<ipython-input-15-36ab4c9945bf>\u001b[0m in \u001b[0;36m<module>\u001b[0;34m\u001b[0m\n\u001b[0;32m----> 1\u001b[0;31m \u001b[0mbm\u001b[0m\u001b[0;34m.\u001b[0m\u001b[0mfit\u001b[0m\u001b[0;34m(\u001b[0m\u001b[0mdf\u001b[0m\u001b[0;34m[\u001b[0m\u001b[0;34m:\u001b[0m\u001b[0;36m10\u001b[0m\u001b[0;34m]\u001b[0m\u001b[0;34m)\u001b[0m\u001b[0;34m\u001b[0m\u001b[0m\n\u001b[0m",
      "\u001b[0;31mAttributeError\u001b[0m: 'FactorGraph' object has no attribute 'fit'"
     ]
    }
   ],
   "source": [
    "bm.fit(df[:10])"
   ]
  },
  {
   "cell_type": "code",
   "execution_count": 20,
   "metadata": {},
   "outputs": [
    {
     "data": {
      "text/plain": [
       "(8184, 96)"
      ]
     },
     "execution_count": 20,
     "metadata": {},
     "output_type": "execute_result"
    }
   ],
   "source": [
    "data.shape"
   ]
  },
  {
   "cell_type": "code",
   "execution_count": 3,
   "metadata": {},
   "outputs": [],
   "source": [
    "data = np.load('../data/chorales_matrices_12_8.npy')\n",
    "\n",
    "subdivisions = 8\n",
    "\n",
    "stb_data = []\n",
    "\n",
    "for data_point in range(data.shape[2]):\n",
    "    m = data[:, :, data_point]\n",
    "    notes = np.vstack(m.nonzero())\n",
    "    new = notes[:, np.lexsort(notes)]\n",
    "    voices = tuple(([] for _ in range(subdivisions)))\n",
    "    for note, idx in new.T:\n",
    "        voices[idx].append(note)\n",
    "\n",
    "    stb = np.zeros((subdivisions, 3)).astype(np.int)\n",
    "    for i, vcs in enumerate(voices):\n",
    "        stb[i, 0] = vcs[0]\n",
    "        stb[i, 1] = vcs[len(vcs) // 2]\n",
    "        stb[i, 2] = vcs[-1]\n",
    "\n",
    "    stb_data.append(stb.T.ravel())"
   ]
  },
  {
   "cell_type": "code",
   "execution_count": 4,
   "metadata": {},
   "outputs": [
    {
     "data": {
      "text/html": [
       "<div>\n",
       "<style scoped>\n",
       "    .dataframe tbody tr th:only-of-type {\n",
       "        vertical-align: middle;\n",
       "    }\n",
       "\n",
       "    .dataframe tbody tr th {\n",
       "        vertical-align: top;\n",
       "    }\n",
       "\n",
       "    .dataframe thead th {\n",
       "        text-align: right;\n",
       "    }\n",
       "</style>\n",
       "<table border=\"1\" class=\"dataframe\">\n",
       "  <thead>\n",
       "    <tr style=\"text-align: right;\">\n",
       "      <th></th>\n",
       "      <th>0_B</th>\n",
       "      <th>1_B</th>\n",
       "      <th>2_B</th>\n",
       "      <th>3_B</th>\n",
       "      <th>4_B</th>\n",
       "      <th>5_B</th>\n",
       "      <th>6_B</th>\n",
       "      <th>7_B</th>\n",
       "      <th>0_T</th>\n",
       "      <th>1_T</th>\n",
       "      <th>...</th>\n",
       "      <th>6_T</th>\n",
       "      <th>7_T</th>\n",
       "      <th>0_S</th>\n",
       "      <th>1_S</th>\n",
       "      <th>2_S</th>\n",
       "      <th>3_S</th>\n",
       "      <th>4_S</th>\n",
       "      <th>5_S</th>\n",
       "      <th>6_S</th>\n",
       "      <th>7_S</th>\n",
       "    </tr>\n",
       "  </thead>\n",
       "  <tbody>\n",
       "    <tr>\n",
       "      <th>1</th>\n",
       "      <td>0</td>\n",
       "      <td>2</td>\n",
       "      <td>2</td>\n",
       "      <td>0</td>\n",
       "      <td>0</td>\n",
       "      <td>2</td>\n",
       "      <td>2</td>\n",
       "      <td>0</td>\n",
       "      <td>5</td>\n",
       "      <td>5</td>\n",
       "      <td>...</td>\n",
       "      <td>5</td>\n",
       "      <td>5</td>\n",
       "      <td>9</td>\n",
       "      <td>10</td>\n",
       "      <td>10</td>\n",
       "      <td>10</td>\n",
       "      <td>10</td>\n",
       "      <td>10</td>\n",
       "      <td>10</td>\n",
       "      <td>9</td>\n",
       "    </tr>\n",
       "    <tr>\n",
       "      <th>2</th>\n",
       "      <td>0</td>\n",
       "      <td>2</td>\n",
       "      <td>2</td>\n",
       "      <td>2</td>\n",
       "      <td>4</td>\n",
       "      <td>0</td>\n",
       "      <td>4</td>\n",
       "      <td>0</td>\n",
       "      <td>5</td>\n",
       "      <td>5</td>\n",
       "      <td>...</td>\n",
       "      <td>7</td>\n",
       "      <td>5</td>\n",
       "      <td>9</td>\n",
       "      <td>10</td>\n",
       "      <td>10</td>\n",
       "      <td>10</td>\n",
       "      <td>10</td>\n",
       "      <td>10</td>\n",
       "      <td>10</td>\n",
       "      <td>9</td>\n",
       "    </tr>\n",
       "  </tbody>\n",
       "</table>\n",
       "<p>2 rows × 24 columns</p>\n",
       "</div>"
      ],
      "text/plain": [
       "   0_B  1_B  2_B  3_B  4_B  5_B  6_B  7_B  0_T  1_T  ...  6_T  7_T  0_S  1_S  \\\n",
       "1    0    2    2    0    0    2    2    0    5    5  ...    5    5    9   10   \n",
       "2    0    2    2    2    4    0    4    0    5    5  ...    7    5    9   10   \n",
       "\n",
       "   2_S  3_S  4_S  5_S  6_S  7_S  \n",
       "1   10   10   10   10   10    9  \n",
       "2   10   10   10   10   10    9  \n",
       "\n",
       "[2 rows x 24 columns]"
      ]
     },
     "execution_count": 4,
     "metadata": {},
     "output_type": "execute_result"
    }
   ],
   "source": [
    "variables = ['%d_%s'%(j,i) for i in ['B', 'T', 'S'] for j in range(subdivisions)]\n",
    "df = pd.DataFrame(columns=variables, data=np.array(stb_data))\n",
    "df[1:3]"
   ]
  },
  {
   "cell_type": "code",
   "execution_count": 5,
   "metadata": {},
   "outputs": [
    {
     "data": {
      "text/plain": [
       "True"
      ]
     },
     "execution_count": 5,
     "metadata": {},
     "output_type": "execute_result"
    }
   ],
   "source": [
    "G = models.MarkovModel()\n",
    "for v in variables:\n",
    "    G.add_node(v)\n",
    "# Set up the time-wise connections\n",
    "for i in range(subdivisions - 1):\n",
    "    G.add_edge('%d_S'%i, '%d_S'%(i+1))\n",
    "    #G.add_edge('%d_T'%i, '%d_T'%(i+1))\n",
    "    #G.add_edge('%d_B'%i, '%d_B'%(i+1))\n",
    "\n",
    "for i in range(subdivisions):\n",
    "    G.add_edge('%d_B'%i, '%d_T'%i)\n",
    "    G.add_edge('%d_T'%i, '%d_S'%i)\n",
    "\n",
    "G.check_model()"
   ]
  },
  {
   "cell_type": "code",
   "execution_count": 6,
   "metadata": {},
   "outputs": [],
   "source": [
    "bm = G.to_bayesian_model()"
   ]
  },
  {
   "cell_type": "code",
   "execution_count": 7,
   "metadata": {},
   "outputs": [],
   "source": [
    "bm.fit(df, state_names={i:list(range(12)) for i in variables})"
   ]
  },
  {
   "cell_type": "code",
   "execution_count": 9,
   "metadata": {},
   "outputs": [
    {
     "data": {
      "text/html": [
       "<div>\n",
       "<style scoped>\n",
       "    .dataframe tbody tr th:only-of-type {\n",
       "        vertical-align: middle;\n",
       "    }\n",
       "\n",
       "    .dataframe tbody tr th {\n",
       "        vertical-align: top;\n",
       "    }\n",
       "\n",
       "    .dataframe thead th {\n",
       "        text-align: right;\n",
       "    }\n",
       "</style>\n",
       "<table border=\"1\" class=\"dataframe\">\n",
       "  <thead>\n",
       "    <tr style=\"text-align: right;\">\n",
       "      <th></th>\n",
       "      <th>0_B</th>\n",
       "      <th>1_B</th>\n",
       "      <th>2_B</th>\n",
       "      <th>3_B</th>\n",
       "      <th>4_B</th>\n",
       "      <th>5_B</th>\n",
       "      <th>6_B</th>\n",
       "      <th>7_B</th>\n",
       "    </tr>\n",
       "  </thead>\n",
       "  <tbody>\n",
       "    <tr>\n",
       "      <th>0</th>\n",
       "      <td>0</td>\n",
       "      <td>2</td>\n",
       "      <td>4</td>\n",
       "      <td>5</td>\n",
       "      <td>4</td>\n",
       "      <td>2</td>\n",
       "      <td>0</td>\n",
       "      <td>2</td>\n",
       "    </tr>\n",
       "  </tbody>\n",
       "</table>\n",
       "</div>"
      ],
      "text/plain": [
       "   0_B  1_B  2_B  3_B  4_B  5_B  6_B  7_B\n",
       "0    0    2    4    5    4    2    0    2"
      ]
     },
     "execution_count": 9,
     "metadata": {},
     "output_type": "execute_result"
    }
   ],
   "source": [
    "df_idea = pd.DataFrame(columns=[i for i in variables if 'B' in i or 'T'], data=np.array([[0, 2, 4, 5, 4, 2, 0, 2]]).astype(np.int))\n",
    "df_idea"
   ]
  },
  {
   "cell_type": "code",
   "execution_count": null,
   "metadata": {},
   "outputs": [],
   "source": []
  }
 ],
 "metadata": {
  "kernelspec": {
   "display_name": "lemon",
   "language": "python",
   "name": "lemon"
  },
  "language_info": {
   "codemirror_mode": {
    "name": "ipython",
    "version": 3
   },
   "file_extension": ".py",
   "mimetype": "text/x-python",
   "name": "python",
   "nbconvert_exporter": "python",
   "pygments_lexer": "ipython3",
   "version": "3.6.4"
  }
 },
 "nbformat": 4,
 "nbformat_minor": 2
}
